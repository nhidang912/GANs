{
 "cells": [
  {
   "cell_type": "code",
   "execution_count": 1,
   "metadata": {},
   "outputs": [],
   "source": [
    "import numpy as np\n",
    "import os, cv2\n",
    "import tensorflow as tf\n",
    "import matplotlib.pyplot as plt\n",
    "from datetime import datetime\n",
    "from sklearn.utils import shuffle\n",
    "from imutils import build_montages\n",
    "from keras.datasets import mnist\n",
    "from keras.optimizers import Adam\n",
    "from keras.models import Model, Sequential\n",
    "from keras.layers import BatchNormalization, Input, LeakyReLU\n",
    "from keras.layers.convolutional import Conv2D, Conv2DTranspose\n",
    "from keras.layers.core import Activation, Dense, Flatten, Reshape\n",
    "from tensorflow.keras.models import load_model"
   ]
  },
  {
   "cell_type": "markdown",
   "metadata": {},
   "source": [
    "# 1 - Implement DCGAN"
   ]
  },
  {
   "cell_type": "code",
   "execution_count": 2,
   "metadata": {},
   "outputs": [],
   "source": [
    "class DCGAN:\n",
    "    \n",
    "    \"\"\"Build the generator module\n",
    "    Arguments:\n",
    "        dim:        the target spatial dimensions (width & height) of the generator after reshaping\n",
    "        depth:      the target depth of the volumn after reshaping\n",
    "        channels:   the number of channels in the output volume from the generator (1: grayscale, 3: RGB)\n",
    "        inputDim:   dimensionality of the randomly generated input vector to the generator\n",
    "        outputDim:  dimensionality of the output fully-connected layer from the randomly generated input vector\n",
    "    \"\"\"\n",
    "    @staticmethod\n",
    "    def build_generator(dim, depth, channels=1, inputDim=100, outputDim=512):\n",
    "        #initialize the model\n",
    "        model = Sequential()\n",
    "        inputShape = (dim, dim, depth)\n",
    "        chanDim = -1\n",
    "        #1st FC layer: fully-connected -> relu -> normalization\n",
    "        model.add(Dense(input_dim=inputDim, units=outputDim))\n",
    "        model.add(Activation(\"relu\"))\n",
    "        model.add(BatchNormalization())\n",
    "        #2nd FC layer: fully-connected -> relu -> normalization\n",
    "        model.add(Dense(units=dim*dim*depth))\n",
    "        model.add(Activation(\"relu\"))\n",
    "        model.add(BatchNormalization())\n",
    "        #1st conv layer: reshape -> Conv2d -> relu -> normalization\n",
    "        model.add(Reshape(inputShape))\n",
    "        model.add(Conv2DTranspose(32,(5,5), strides=(2,2), padding=\"same\"))\n",
    "        model.add(Activation(\"relu\"))\n",
    "        model.add(BatchNormalization(axis=chanDim))\n",
    "        #output layer: Conv2d -> tanh\n",
    "        model.add(Conv2DTranspose(channels,(5,5),strides=(2,2),padding=\"same\"))\n",
    "        model.add(Activation(\"tanh\"))\n",
    "        return model\n",
    "    \n",
    "\n",
    "    @staticmethod\n",
    "    def build_discriminator(width, height, depth, alpha=0.2):\n",
    "        #initialize the model\n",
    "        model = Sequential()\n",
    "        inputShape = (height, width, depth)\n",
    "        #1st conv layer: Conv2d -> leakyrelu\n",
    "        model.add(Conv2D(32,(5,5),padding=\"same\",strides=(2,2),input_shape=inputShape))\n",
    "        model.add(LeakyReLU(alpha=alpha))\n",
    "        #2nd conv layer: Conv2d -> leakyrelu\n",
    "        model.add(Conv2D(64,(5,5),padding=\"same\",strides=(2,2)))\n",
    "        model.add(LeakyReLU(alpha=alpha))\n",
    "        #1st FC layer: fully-connected -> leakyrelu\n",
    "        model.add(Flatten())\n",
    "        model.add(Dense(512))\n",
    "        model.add(LeakyReLU(alpha=alpha))\n",
    "        #output model\n",
    "        model.add(Dense(1))\n",
    "        model.add(Activation(\"sigmoid\"))\n",
    "        return model"
   ]
  },
  {
   "cell_type": "markdown",
   "metadata": {},
   "source": [
    "# 2 - Training on MNIST"
   ]
  },
  {
   "cell_type": "markdown",
   "metadata": {},
   "source": [
    "## 2.1 Configuration"
   ]
  },
  {
   "cell_type": "code",
   "execution_count": 3,
   "metadata": {},
   "outputs": [],
   "source": [
    "timestamp = (datetime.now()).strftime(\"%y%m%d_%H%M%S\")\n",
    "output_path = os.path.join(\"output\", 'DCGAN_'+timestamp)\n",
    "if not os.path.exists(output_path):\n",
    "    os.makedirs(output_path)"
   ]
  },
  {
   "cell_type": "code",
   "execution_count": 4,
   "metadata": {},
   "outputs": [],
   "source": [
    "OUTPUT = output_path\n",
    "NUM_EPOCHS = 25 \n",
    "BATCH_SIZE = 128 "
   ]
  },
  {
   "cell_type": "markdown",
   "metadata": {},
   "source": [
    "## 2.2 Load MNIST"
   ]
  },
  {
   "cell_type": "code",
   "execution_count": 5,
   "metadata": {},
   "outputs": [
    {
     "name": "stdout",
     "output_type": "stream",
     "text": [
      "[INFO] loading MNIST dataset...\n"
     ]
    }
   ],
   "source": [
    "print(\"[INFO] loading MNIST dataset...\")\n",
    "((trainX, _), (testX, _)) = mnist.load_data()\n",
    "trainImages = np.concatenate([trainX, testX])\n",
    "trainImages = np.expand_dims(trainImages, axis=-1)\n",
    "trainImages = (trainImages.astype(\"float\") - 127.5) / 127.5"
   ]
  },
  {
   "cell_type": "markdown",
   "metadata": {},
   "source": [
    "## 2.3 - Initialize DCGAN"
   ]
  },
  {
   "cell_type": "code",
   "execution_count": 6,
   "metadata": {},
   "outputs": [
    {
     "name": "stdout",
     "output_type": "stream",
     "text": [
      "[INFO] building genertor...\n",
      "[INFO] building discriminator...\n"
     ]
    }
   ],
   "source": [
    "print(\"[INFO] building genertor...\")\n",
    "gen = DCGAN.build_generator(7, 64, channels=1)\n",
    "\n",
    "print(\"[INFO] building discriminator...\")\n",
    "disc = DCGAN.build_discriminator(28, 28, 1)\n",
    "optimizer = Adam(learning_rate=0.0002, beta_1=0.5, decay=0.0002/NUM_EPOCHS)\n",
    "disc.compile(loss=\"binary_crossentropy\", optimizer=optimizer)"
   ]
  },
  {
   "cell_type": "code",
   "execution_count": 7,
   "metadata": {},
   "outputs": [
    {
     "name": "stdout",
     "output_type": "stream",
     "text": [
      "[INFOR] building GAN...\n"
     ]
    }
   ],
   "source": [
    "print(\"[INFOR] building GAN...\")\n",
    "disc.trainable = False\n",
    "ganInput = Input(shape=(100,))\n",
    "ganOutput = disc(gen(ganInput))\n",
    "gan = Model(ganInput, ganOutput)\n",
    "\n",
    "#Compile the GAN\n",
    "ganOpt = Adam(learning_rate=0.0002, beta_1=0.5, decay=0.0002/NUM_EPOCHS)\n",
    "gan.compile(loss=\"binary_crossentropy\", optimizer=optimizer)"
   ]
  },
  {
   "cell_type": "markdown",
   "metadata": {},
   "source": [
    "## 2.4 - Training"
   ]
  },
  {
   "cell_type": "code",
   "execution_count": 8,
   "metadata": {},
   "outputs": [
    {
     "name": "stdout",
     "output_type": "stream",
     "text": [
      "[INFO] starting training...\n",
      "[INFO] Epoch 01: disc_loss=0.397715, gan_loss:1.997550\n",
      "[INFO] Epoch 02: disc_loss=0.461168, gan_loss:0.877811\n",
      "[INFO] Epoch 03: disc_loss=0.520838, gan_loss:1.028584\n",
      "[INFO] Epoch 04: disc_loss=0.517407, gan_loss:1.190240\n",
      "[INFO] Epoch 05: disc_loss=0.489175, gan_loss:1.147896\n",
      "[INFO] Epoch 06: disc_loss=0.532778, gan_loss:1.295194\n",
      "[INFO] Epoch 07: disc_loss=0.506199, gan_loss:1.197796\n",
      "[INFO] Epoch 08: disc_loss=0.519986, gan_loss:1.320543\n",
      "[INFO] Epoch 09: disc_loss=0.526153, gan_loss:1.246445\n",
      "[INFO] Epoch 10: disc_loss=0.548838, gan_loss:1.336514\n",
      "[INFO] Epoch 11: disc_loss=0.517089, gan_loss:1.376884\n",
      "[INFO] Epoch 12: disc_loss=0.528526, gan_loss:1.294966\n",
      "[INFO] Epoch 13: disc_loss=0.502219, gan_loss:1.136060\n",
      "[INFO] Epoch 14: disc_loss=0.573874, gan_loss:1.138325\n",
      "[INFO] Epoch 15: disc_loss=0.528034, gan_loss:1.463580\n",
      "[INFO] Epoch 16: disc_loss=0.534811, gan_loss:1.268294\n",
      "[INFO] Epoch 17: disc_loss=0.561287, gan_loss:1.407249\n",
      "[INFO] Epoch 18: disc_loss=0.519469, gan_loss:1.148960\n",
      "[INFO] Epoch 19: disc_loss=0.522010, gan_loss:1.342389\n",
      "[INFO] Epoch 20: disc_loss=0.522715, gan_loss:1.174037\n",
      "[INFO] Epoch 21: disc_loss=0.495721, gan_loss:1.447133\n",
      "[INFO] Epoch 22: disc_loss=0.486865, gan_loss:1.417861\n",
      "[INFO] Epoch 23: disc_loss=0.495121, gan_loss:1.391983\n",
      "[INFO] Epoch 24: disc_loss=0.488170, gan_loss:1.368324\n",
      "[INFO] Epoch 25: disc_loss=0.509518, gan_loss:1.472725\n"
     ]
    }
   ],
   "source": [
    "print(\"[INFO] starting training...\")\n",
    "benchmarkNoise = np.random.uniform(-1, 1, size=(256, 100))\n",
    "disc_loss_list = []\n",
    "gan_loss_list = []\n",
    "\n",
    "# loop over the epochs\n",
    "for epoch in range(NUM_EPOCHS):\n",
    "    batchesPerEpoch = int(trainImages.shape[0]/BATCH_SIZE)\n",
    "    \n",
    "    #loop over the batches\n",
    "    for i in range(0, batchesPerEpoch):\n",
    "        p = None        #initialize an empty output path\n",
    "\n",
    "        # select the next batch of images, then randomly generate noise for the generator to predict on\n",
    "        imageBatch = trainImages[i * BATCH_SIZE:(i+1) * BATCH_SIZE]\n",
    "        noise = np.random.uniform(-1,1,size=(BATCH_SIZE,100))\n",
    "\n",
    "        # generate image using noise + generator model\n",
    "        genImages = gen.predict(noise, verbose=0)\n",
    "\n",
    "        # concatenate the *actual* images and the *generated* images, \n",
    "        # construct class labels for the discriminator, and shuffle\n",
    "        X = np.concatenate((imageBatch, genImages))\n",
    "        y = np.array(([1]*BATCH_SIZE) + ([0]*BATCH_SIZE))\n",
    "        (X, y) = shuffle(X,y)\n",
    "\n",
    "        # train the discriminator\n",
    "        discLoss = disc.train_on_batch(X, y)\n",
    "\n",
    "        # train the generator by generate randome noise & freeze discriminator\n",
    "        noise = np.random.uniform(-1, 1, (BATCH_SIZE, 100))\n",
    "        ganLoss = gan.train_on_batch(noise, np.array([1]*BATCH_SIZE))\n",
    "\n",
    "\n",
    "        # if end of an epoch, create path for output image\n",
    "        if i == (batchesPerEpoch - 1):\n",
    "            if (epoch+1)%5 == 0 or epoch==0:\n",
    "                p = [OUTPUT, \"epoch_{}_output.png\".format(str(epoch+1).zfill(4))]\n",
    "            \n",
    "            disc_loss_list.append(discLoss)\n",
    "            gan_loss_list.append(ganLoss)\n",
    "            print(f\"[INFO] Epoch {epoch+1:02d}: disc_loss={discLoss:.6f}, gan_loss:{ganLoss:.6f}\")\n",
    "        \n",
    "        if p is not None:\n",
    "            images = gen.predict(benchmarkNoise, verbose=False)\n",
    "            images = ((images*127.5)+127.5).astype(\"uint8\")\n",
    "            images = np.repeat(images,3,axis=-1)\n",
    "            vis = build_montages(images, (28,28), (16,16))[0]\n",
    "            p = os.path.sep.join(p)\n",
    "            cv2.imwrite(p, vis)"
   ]
  },
  {
   "cell_type": "code",
   "execution_count": 9,
   "metadata": {},
   "outputs": [
    {
     "data": {
      "image/png": "[encoded data removed]",
      "text/plain": [
       "<Figure size 1000x600 with 1 Axes>"
      ]
     },
     "metadata": {},
     "output_type": "display_data"
    }
   ],
   "source": [
    "# Example lists of losses (replace with your actual lists)\n",
    "epochs = range(1, len(disc_loss_list)+1)  # Assuming both lists have the same length\n",
    "\n",
    "# Plotting losses\n",
    "plt.figure(figsize=(10, 6))  # Adjust figure size as needed\n",
    "plt.plot(epochs, disc_loss_list, 'b', label='Disc Loss')\n",
    "plt.plot(epochs, gan_loss_list, 'r', label='Gan Loss')\n",
    "plt.title('Training Losses')\n",
    "plt.xlabel('Epochs')\n",
    "plt.ylabel('Loss')\n",
    "plt.legend()\n",
    "plt.grid(True)\n",
    "plt.tight_layout()\n",
    "plt.show()\n"
   ]
  },
  {
   "cell_type": "markdown",
   "metadata": {},
   "source": [
    "## 2.5 - Saving model"
   ]
  },
  {
   "cell_type": "code",
   "execution_count": 10,
   "metadata": {},
   "outputs": [
    {
     "name": "stdout",
     "output_type": "stream",
     "text": [
      "[INFO] saving models...\n",
      "[INFO] generator model saved to output\\DCGAN_240701_005534\\generator_model.h5\n",
      "[INFO] discriminator model saved to output\\DCGAN_240701_005534\\discriminator_model.h5\n"
     ]
    }
   ],
   "source": [
    "# After training loop, save the generator and discriminator models\n",
    "print(\"[INFO] saving models...\")\n",
    "\n",
    "# Define the paths to save the models\n",
    "gen_model_path = os.path.join(OUTPUT, \"generator_model.h5\")\n",
    "disc_model_path = os.path.join(OUTPUT, \"discriminator_model.h5\")\n",
    "\n",
    "# Compile the models before saving\n",
    "gen.compile(optimizer=optimizer, loss='binary_crossentropy')\n",
    "disc.compile(optimizer=optimizer, loss='binary_crossentropy')\n",
    "\n",
    "# Save the models\n",
    "gen.save(gen_model_path)\n",
    "disc.save(disc_model_path)\n",
    "\n",
    "print(f\"[INFO] generator model saved to {gen_model_path}\")\n",
    "print(f\"[INFO] discriminator model saved to {disc_model_path}\")"
   ]
  },
  {
   "cell_type": "markdown",
   "metadata": {},
   "source": [
    "# 3 - Test on MNIST"
   ]
  },
  {
   "cell_type": "code",
   "execution_count": 11,
   "metadata": {},
   "outputs": [
    {
     "data": {
      "text/plain": [
       "'In case you just need to test the model without training:\\n- modify the OUTPUT param below to the directory of your trained model\\n- remember to run the first block which contains all libraries importing'"
      ]
     },
     "execution_count": 11,
     "metadata": {},
     "output_type": "execute_result"
    }
   ],
   "source": [
    "\"\"\"In case you just need to test the model without training:\n",
    "- modify the OUTPUT param below to the directory of your trained model\n",
    "- remember to run the first block which contains all libraries importing\"\"\"\n",
    "# OUTPUT = ''"
   ]
  },
  {
   "cell_type": "code",
   "execution_count": 12,
   "metadata": {},
   "outputs": [
    {
     "name": "stdout",
     "output_type": "stream",
     "text": [
      "WARNING:tensorflow:Error in loading the saved optimizer state. As a result, your model is starting with a freshly initialized optimizer.\n",
      "WARNING:tensorflow:Error in loading the saved optimizer state. As a result, your model is starting with a freshly initialized optimizer.\n"
     ]
    }
   ],
   "source": [
    "# Load the saved models\n",
    "gen_model_path = os.path.join(OUTPUT, \"generator_model.h5\")\n",
    "disc_model_path = os.path.join(OUTPUT, \"discriminator_model.h5\")\n",
    "\n",
    "gen_load = load_model(gen_model_path)\n",
    "disc_load = load_model(disc_model_path)\n",
    "\n",
    "# Function to generate an image and get discriminator prediction\n",
    "def generate_and_predict(num_img):\n",
    "    noise = np.random.uniform(-1, 1, (num_img, 100))\n",
    "    \n",
    "    # Generate images using the generator\n",
    "    gen_images = gen_load.predict(noise, verbose=False)\n",
    "    gen_images = ((gen_images * 127.5) + 127.5).astype(\"uint8\")\n",
    "    \n",
    "    # Predict authenticity using the discriminator\n",
    "    preds = disc.predict(gen_images.reshape(num_img, 28, 28, 1), verbose=False)\n",
    "    \n",
    "    # Calculate losses\n",
    "    disc_loss = np.mean(preds)\n",
    "    print(f\"Average Discriminator loss: {disc_loss:.6f}\")\n",
    "    \n",
    "    # Display the generated images and predictions\n",
    "    plt.figure(figsize=(2*num_img, 2.5))\n",
    "    for i in range(num_img):\n",
    "        plt.subplot(1, num_img, i + 1)\n",
    "        plt.imshow(gen_images[i].squeeze(), cmap='gray')\n",
    "        plt.title(f\"Disc: {preds[i][0]:.4f}\")\n",
    "        plt.axis('off')\n",
    "    plt.show()"
   ]
  },
  {
   "cell_type": "code",
   "execution_count": 15,
   "metadata": {},
   "outputs": [
    {
     "name": "stdout",
     "output_type": "stream",
     "text": [
      "Average Discriminator loss: 1.000000\n"
     ]
    },
    {
     "data": {
      "image/png": "[encoded data removed]",
      "text/plain": [
       "<Figure size 2000x250 with 10 Axes>"
      ]
     },
     "metadata": {},
     "output_type": "display_data"
    }
   ],
   "source": [
    "generate_and_predict(10) #Randomly generate 10 image"
   ]
  }
 ],
 "metadata": {
  "kernelspec": {
   "display_name": "tfenv",
   "language": "python",
   "name": "python3"
  },
  "language_info": {
   "codemirror_mode": {
    "name": "ipython",
    "version": 3
   },
   "file_extension": ".py",
   "mimetype": "text/x-python",
   "name": "python",
   "nbconvert_exporter": "python",
   "pygments_lexer": "ipython3",
   "version": "3.9.19"
  }
 },
 "nbformat": 4,
 "nbformat_minor": 2
}
